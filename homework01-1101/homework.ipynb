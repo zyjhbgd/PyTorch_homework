{
 "cells": [
  {
   "cell_type": "markdown",
   "metadata": {},
   "source": [
    "# 基于词向量的英汉翻译——“火炬上的深度学习\"下第一次作业\n",
    "\n",
    "在这个作业中，你需要半独立地完成一个英文到中文的单词翻译器\n",
    "\n",
    "本文件是集智AI学园http://campus.swarma.org 出品的“火炬上的深度学习”第VI课的配套源代码"
   ]
  },
  {
   "cell_type": "code",
   "execution_count": 1,
   "metadata": {},
   "outputs": [
    {
     "name": "stderr",
     "output_type": "stream",
     "text": [
      "C:\\ProgramData\\Anaconda3\\envs\\tf36\\lib\\site-packages\\gensim\\utils.py:862: UserWarning: detected Windows; aliasing chunkize to chunkize_serial\n",
      "  warnings.warn(\"detected Windows; aliasing chunkize to chunkize_serial\")\n"
     ]
    }
   ],
   "source": [
    "# 加载必要的程序包\n",
    "# PyTorch的程序包\n",
    "import torch\n",
    "from torch.autograd import Variable\n",
    "import torch.nn as nn\n",
    "import torch.nn.functional as F\n",
    "import torch.optim as optim\n",
    "\n",
    "# 数值运算和绘图的程序包\n",
    "import numpy as np\n",
    "import matplotlib.pyplot as plt\n",
    "import matplotlib\n",
    "\n",
    "\n",
    "# 加载机器学习的软件包，主要为了词向量的二维可视化\n",
    "from sklearn.decomposition import PCA\n",
    "\n",
    "#加载Word2Vec的软件包\n",
    "import gensim as gensim\n",
    "from gensim.models import Word2Vec\n",
    "from gensim.models.keyedvectors import KeyedVectors\n",
    "from gensim.models.word2vec import LineSentence\n",
    "\n",
    "#加载正则表达式处理的包\n",
    "import re\n",
    "\n",
    "#在Notebook界面能够直接显示图形\n",
    "%matplotlib inline"
   ]
  },
  {
   "cell_type": "markdown",
   "metadata": {},
   "source": [
    "## 第一步：加载词向量\n",
    "\n",
    "首先，让我们加载别人已经在大型语料库上训练好的词向量"
   ]
  },
  {
   "cell_type": "code",
   "execution_count": 2,
   "metadata": {},
   "outputs": [
    {
     "data": {
      "text/plain": [
       "1366130"
      ]
     },
     "execution_count": 2,
     "metadata": {},
     "output_type": "execute_result"
    }
   ],
   "source": [
    "# 加载中文词向量，下载地址为：链接：http://pan.baidu.com/s/1gePQAun 密码：kvtg\n",
    "# 该中文词向量库是由尹相志提供，训练语料来源为：微博、人民日报、上海热线、汽车之家等，包含1366130个词向量\n",
    "word_vectors = KeyedVectors.load_word2vec_format('vectors.bin', binary=True, unicode_errors='ignore')\n",
    "len(word_vectors.vocab)"
   ]
  },
  {
   "cell_type": "code",
   "execution_count": 7,
   "metadata": {
    "scrolled": true
   },
   "outputs": [
    {
     "name": "stdout",
     "output_type": "stream",
     "text": [
      "400000\n",
      "400001\n"
     ]
    }
   ],
   "source": [
    "# 加载中文的词向量，下载地址为：http://nlp.stanford.edu/data/glove.6B.zip，解压后将glove.6B.100d.txt文件拷贝到与本notebook\n",
    "# 文件一致的文件夹洗面。\n",
    "f = open('glove.6B.100d.txt', 'r', encoding = 'utf-8')\n",
    "i = 1\n",
    "\n",
    "# 将英文的词向量都存入如下的字典中\n",
    "word_vectors_en = {}\n",
    "#with open('glove.6B.100d.txt') as f:\n",
    "for line in f:\n",
    "    numbers = line.split()\n",
    "    word = numbers[0]\n",
    "    vectors = np.array([float(i) for i in numbers[1 : ]])\n",
    "    word_vectors_en[word] = vectors\n",
    "    i += 1\n",
    "print(len(word_vectors_en))\n",
    "print(i)"
   ]
  },
  {
   "cell_type": "code",
   "execution_count": 8,
   "metadata": {
    "scrolled": true
   },
   "outputs": [
    {
     "name": "stdout",
     "output_type": "stream",
     "text": [
      "[-0.038194 -0.24487   0.72812  -0.39961   0.083172  0.043953 -0.39141\n",
      "  0.3344   -0.57545   0.087459  0.28787  -0.06731   0.30906  -0.26384\n",
      " -0.13231  -0.20757   0.33395  -0.33848  -0.31743  -0.48336   0.1464\n",
      " -0.37304   0.34577   0.052041  0.44946  -0.46971   0.02628  -0.54155\n",
      " -0.15518  -0.14107  -0.039722  0.28277   0.14393   0.23464  -0.31021\n",
      "  0.086173  0.20397   0.52624   0.17164  -0.082378 -0.71787  -0.41531\n",
      "  0.20335  -0.12763   0.41367   0.55187   0.57908  -0.33477  -0.36559\n",
      " -0.54857  -0.062892  0.26584   0.30205   0.99775  -0.80481  -3.0243\n",
      "  0.01254  -0.36942   2.2167    0.72201  -0.24978   0.92136   0.034514\n",
      "  0.46745   1.1079   -0.19358  -0.074575  0.23353  -0.052062 -0.22044\n",
      "  0.057162 -0.15806  -0.30798  -0.41625   0.37972   0.15006  -0.53212\n",
      " -0.2055   -1.2526    0.071624  0.70565   0.49744  -0.42063   0.26148\n",
      " -1.538    -0.30223  -0.073438 -0.28312   0.37104  -0.25217   0.016215\n",
      " -0.017099 -0.38984   0.87424  -0.72569  -0.51058  -0.52028  -0.1459\n",
      "  0.8278    0.27062 ]\n"
     ]
    }
   ],
   "source": [
    "print(word_vectors_en['the'])"
   ]
  },
  {
   "cell_type": "markdown",
   "metadata": {},
   "source": [
    "## 第二步：可视化同一组意思词在两种不同语言的词向量中的相互位置关系"
   ]
  },
  {
   "cell_type": "code",
   "execution_count": 12,
   "metadata": {
    "collapsed": true
   },
   "outputs": [],
   "source": [
    "# 中文的一二三四五列表\n",
    "cn_list = {'一', '二', '三', '四', '五', '六', '七', '八', '九', '零'}\n",
    "# 阿拉伯数字的12345列表\n",
    "en_list = {'1', '2', '3', '4', '5', '6', '7', '8', '9', '0'}\n",
    "# 英文数字的列表\n",
    "#en_list = {'one', 'two', 'three', 'four', 'five', 'six', 'seven', 'eight', 'nine', 'zero'}\n",
    "\n",
    "# 对应词向量都存入到列表中\n",
    "cn_vectors = []  #中文的词向量列表\n",
    "en_vectors = []  #英文的词向量列表\n",
    "for w in cn_list:\n",
    "    cn_vectors.append(word_vectors[w])\n",
    "for w in en_list:\n",
    "    en_vectors.append(word_vectors_en[w])\n",
    "\n",
    "# 将这些词向量统一转化为矩阵\n",
    "cn_vectors = np.array(cn_vectors)\n",
    "en_vectors = np.array(en_vectors)"
   ]
  },
  {
   "cell_type": "code",
   "execution_count": 32,
   "metadata": {},
   "outputs": [
    {
     "data": {
      "image/png": "[encoded data removed]",
      "text/plain": [
       "<matplotlib.figure.Figure at 0x47d46320>"
      ]
     },
     "metadata": {},
     "output_type": "display_data"
    }
   ],
   "source": [
    "# 降维实现可视化\n",
    "X_reduced = PCA(n_components = 2).fit_transform(cn_vectors)\n",
    "Y_reduced = PCA(n_components = 2).fit_transform(en_vectors)\n",
    "\n",
    "# 绘制所有单词向量的二维空间投影\n",
    "f, (ax1, ax2) = plt.subplots(1, 2, figsize = (10, 8))\n",
    "ax1.plot(X_reduced[:, 0], X_reduced[:, 1], 'o')\n",
    "ax2.plot(Y_reduced[:, 0], Y_reduced[:, 1], 'o')\n",
    "zhfont1 = matplotlib.font_manager.FontProperties(fname='C:\\Windows\\Fonts\\STFANGSO.TTF', size=16)\n",
    "for i, w in enumerate(cn_list):\n",
    "    ax1.text(X_reduced[i, 0], X_reduced[i, 1], w, fontproperties = zhfont1, alpha = 1)\n",
    "for i, w in enumerate(en_list):\n",
    "    ax2.text(Y_reduced[i, 0], Y_reduced[i, 1], w, alpha = 1)"
   ]
  },
  {
   "cell_type": "markdown",
   "metadata": {},
   "source": [
    "### 结论：可以看出，中文的一、二、等数字彼此之间的关系与英文的数字彼此之间的关系很类似"
   ]
  },
  {
   "cell_type": "markdown",
   "metadata": {},
   "source": [
    "## 第三步：训练一个神经网络，输入一个英文单词的词向量，输出一个中文的词向量，并翻译为中文"
   ]
  },
  {
   "cell_type": "markdown",
   "metadata": {},
   "source": [
    "首先，读入一个已经建立好的词典（dictionary.txt）。本词典是老师调用百度翻译的API，自动将一篇英文小说中的词汇逐个翻译为中文而得来的\n",
    "\n",
    "我们一个个地载入词典，并查找对应的中文词向量，如果找得到，则放入original_words中，做为正式的训练集"
   ]
  },
  {
   "cell_type": "code",
   "execution_count": 40,
   "metadata": {},
   "outputs": [
    {
     "name": "stdout",
     "output_type": "stream",
     "text": [
      "4962\n"
     ]
    }
   ],
   "source": [
    "original_words = []\n",
    "with open('dictionary.txt', 'r', encoding = 'utf-8') as f:\n",
    "    dataset = []\n",
    "    for line in f:\n",
    "        itm = line.split('\\t')\n",
    "        eng = itm[0]\n",
    "        chn = itm[1].strip()\n",
    "        if eng in word_vectors_en and chn in word_vectors:\n",
    "            data = word_vectors_en[eng]\n",
    "            target = word_vectors[chn]\n",
    "            # 将中英文词对做成数据集\n",
    "            dataset.append([data, target])\n",
    "            original_words.append([eng, chn])\n",
    "print(len(dataset)) # 共有4962个单词做为总的数据集合\n",
    "#print(dataset[0])"
   ]
  },
  {
   "cell_type": "code",
   "execution_count": 57,
   "metadata": {},
   "outputs": [
    {
     "name": "stdout",
     "output_type": "stream",
     "text": [
      "250\n"
     ]
    }
   ],
   "source": [
    "# 建立训练集、测试集和校验集\n",
    "# 训练集用来训练神经网络，更改网络的参数；校验集用来判断网络模型是否过拟合：当校验集的损失数值超过训练集的时候，即为过拟合\n",
    "# 测试集用来检验模型的好坏\n",
    "indx = np.random.permutation(range(len(dataset)))\n",
    "dataset = [dataset[i] for i in indx]\n",
    "original_words = [original_words[i] for i in indx]\n",
    "train_size = 500\n",
    "train_data = dataset[train_size:]\n",
    "valid_data = dataset[train_size // 2 : train_size]\n",
    "test_data = dataset[: train_size // 2]\n",
    "test_words = original_words[: train_size // 2]\n",
    "print(train_size // 2)"
   ]
  },
  {
   "cell_type": "code",
   "execution_count": 58,
   "metadata": {
    "scrolled": true
   },
   "outputs": [
    {
     "name": "stdout",
     "output_type": "stream",
     "text": [
      "0轮，训练Loss: 8.73, 校验Loss: 8.68\n",
      "1轮，训练Loss: 8.31, 校验Loss: 8.36\n",
      "2轮，训练Loss: 8.06, 校验Loss: 8.18\n",
      "3轮，训练Loss: 7.91, 校验Loss: 8.07\n",
      "4轮，训练Loss: 7.81, 校验Loss: 7.99\n",
      "5轮，训练Loss: 7.72, 校验Loss: 7.92\n",
      "6轮，训练Loss: 7.65, 校验Loss: 7.87\n",
      "7轮，训练Loss: 7.59, 校验Loss: 7.82\n",
      "8轮，训练Loss: 7.54, 校验Loss: 7.79\n",
      "9轮，训练Loss: 7.49, 校验Loss: 7.75\n",
      "10轮，训练Loss: 7.45, 校验Loss: 7.72\n",
      "11轮，训练Loss: 7.42, 校验Loss: 7.69\n",
      "12轮，训练Loss: 7.39, 校验Loss: 7.67\n",
      "13轮，训练Loss: 7.36, 校验Loss: 7.65\n",
      "14轮，训练Loss: 7.33, 校验Loss: 7.63\n",
      "15轮，训练Loss: 7.31, 校验Loss: 7.61\n",
      "16轮，训练Loss: 7.29, 校验Loss: 7.59\n",
      "17轮，训练Loss: 7.27, 校验Loss: 7.58\n",
      "18轮，训练Loss: 7.25, 校验Loss: 7.57\n",
      "19轮，训练Loss: 7.23, 校验Loss: 7.55\n",
      "20轮，训练Loss: 7.22, 校验Loss: 7.54\n",
      "21轮，训练Loss: 7.20, 校验Loss: 7.53\n",
      "22轮，训练Loss: 7.19, 校验Loss: 7.52\n",
      "23轮，训练Loss: 7.18, 校验Loss: 7.52\n",
      "24轮，训练Loss: 7.17, 校验Loss: 7.51\n",
      "25轮，训练Loss: 7.16, 校验Loss: 7.50\n",
      "26轮，训练Loss: 7.15, 校验Loss: 7.49\n",
      "27轮，训练Loss: 7.14, 校验Loss: 7.49\n",
      "28轮，训练Loss: 7.13, 校验Loss: 7.48\n",
      "29轮，训练Loss: 7.12, 校验Loss: 7.48\n",
      "30轮，训练Loss: 7.11, 校验Loss: 7.47\n",
      "31轮，训练Loss: 7.11, 校验Loss: 7.47\n",
      "32轮，训练Loss: 7.10, 校验Loss: 7.47\n",
      "33轮，训练Loss: 7.09, 校验Loss: 7.46\n",
      "34轮，训练Loss: 7.09, 校验Loss: 7.46\n",
      "35轮，训练Loss: 7.08, 校验Loss: 7.46\n",
      "36轮，训练Loss: 7.08, 校验Loss: 7.45\n",
      "37轮，训练Loss: 7.07, 校验Loss: 7.45\n",
      "38轮，训练Loss: 7.07, 校验Loss: 7.45\n",
      "39轮，训练Loss: 7.06, 校验Loss: 7.45\n",
      "40轮，训练Loss: 7.06, 校验Loss: 7.45\n",
      "41轮，训练Loss: 7.05, 校验Loss: 7.44\n",
      "42轮，训练Loss: 7.05, 校验Loss: 7.44\n",
      "43轮，训练Loss: 7.05, 校验Loss: 7.44\n",
      "44轮，训练Loss: 7.04, 校验Loss: 7.44\n",
      "45轮，训练Loss: 7.04, 校验Loss: 7.44\n",
      "46轮，训练Loss: 7.04, 校验Loss: 7.44\n",
      "47轮，训练Loss: 7.03, 校验Loss: 7.43\n",
      "48轮，训练Loss: 7.03, 校验Loss: 7.43\n",
      "49轮，训练Loss: 7.03, 校验Loss: 7.43\n",
      "50轮，训练Loss: 7.02, 校验Loss: 7.43\n",
      "51轮，训练Loss: 7.02, 校验Loss: 7.43\n",
      "52轮，训练Loss: 7.02, 校验Loss: 7.43\n",
      "53轮，训练Loss: 7.02, 校验Loss: 7.43\n",
      "54轮，训练Loss: 7.01, 校验Loss: 7.43\n",
      "55轮，训练Loss: 7.01, 校验Loss: 7.43\n",
      "56轮，训练Loss: 7.01, 校验Loss: 7.43\n",
      "57轮，训练Loss: 7.01, 校验Loss: 7.43\n",
      "58轮，训练Loss: 7.01, 校验Loss: 7.42\n",
      "59轮，训练Loss: 7.01, 校验Loss: 7.42\n",
      "60轮，训练Loss: 7.00, 校验Loss: 7.42\n",
      "61轮，训练Loss: 7.00, 校验Loss: 7.42\n",
      "62轮，训练Loss: 7.00, 校验Loss: 7.42\n",
      "63轮，训练Loss: 7.00, 校验Loss: 7.42\n",
      "64轮，训练Loss: 7.00, 校验Loss: 7.42\n",
      "65轮，训练Loss: 7.00, 校验Loss: 7.42\n",
      "66轮，训练Loss: 6.99, 校验Loss: 7.42\n",
      "67轮，训练Loss: 6.99, 校验Loss: 7.42\n",
      "68轮，训练Loss: 6.99, 校验Loss: 7.42\n",
      "69轮，训练Loss: 6.99, 校验Loss: 7.42\n",
      "70轮，训练Loss: 6.99, 校验Loss: 7.42\n",
      "71轮，训练Loss: 6.99, 校验Loss: 7.42\n",
      "72轮，训练Loss: 6.99, 校验Loss: 7.42\n",
      "73轮，训练Loss: 6.99, 校验Loss: 7.42\n",
      "74轮，训练Loss: 6.98, 校验Loss: 7.42\n",
      "75轮，训练Loss: 6.98, 校验Loss: 7.42\n",
      "76轮，训练Loss: 6.98, 校验Loss: 7.42\n",
      "77轮，训练Loss: 6.98, 校验Loss: 7.42\n",
      "78轮，训练Loss: 6.98, 校验Loss: 7.41\n",
      "79轮，训练Loss: 6.98, 校验Loss: 7.41\n",
      "80轮，训练Loss: 6.98, 校验Loss: 7.41\n",
      "81轮，训练Loss: 6.98, 校验Loss: 7.41\n",
      "82轮，训练Loss: 6.98, 校验Loss: 7.41\n",
      "83轮，训练Loss: 6.98, 校验Loss: 7.41\n",
      "84轮，训练Loss: 6.98, 校验Loss: 7.41\n",
      "85轮，训练Loss: 6.97, 校验Loss: 7.41\n",
      "86轮，训练Loss: 6.97, 校验Loss: 7.41\n",
      "87轮，训练Loss: 6.97, 校验Loss: 7.41\n",
      "88轮，训练Loss: 6.97, 校验Loss: 7.41\n",
      "89轮，训练Loss: 6.97, 校验Loss: 7.41\n",
      "90轮，训练Loss: 6.97, 校验Loss: 7.41\n",
      "91轮，训练Loss: 6.97, 校验Loss: 7.41\n",
      "92轮，训练Loss: 6.97, 校验Loss: 7.41\n",
      "93轮，训练Loss: 6.97, 校验Loss: 7.41\n",
      "94轮，训练Loss: 6.97, 校验Loss: 7.41\n",
      "95轮，训练Loss: 6.97, 校验Loss: 7.41\n",
      "96轮，训练Loss: 6.97, 校验Loss: 7.41\n",
      "97轮，训练Loss: 6.97, 校验Loss: 7.41\n",
      "98轮，训练Loss: 6.96, 校验Loss: 7.41\n",
      "99轮，训练Loss: 6.96, 校验Loss: 7.41\n"
     ]
    }
   ],
   "source": [
    "# 开始训练一个多层神经网络，将一个100维度的英文向量映射为200维度的中文词向量，隐含层节点为30\n",
    "\n",
    "input_size = 100\n",
    "output_size = 200\n",
    "hidden_size = 30\n",
    "\n",
    "# 新建一个神经网络，包含一个隐含层\n",
    "model = nn.Sequential(nn.Linear(input_size, hidden_size),\n",
    "                     nn.Tanh(),\n",
    "                     nn.Linear(hidden_size, output_size)\n",
    "                     )\n",
    "\n",
    "# 构造损失函数\n",
    "criterion = torch.nn.MSELoss()\n",
    "\n",
    "# 构造优化器\n",
    "optimizer = torch.optim.Adam(model.parameters(), lr = 0.0001)\n",
    "\n",
    "# 总的循环周期\n",
    "num_epoch = 100\n",
    "\n",
    "\n",
    "#开始训练500次，每次对所有的数据都做循环\n",
    "results = []\n",
    "for epoch in range(num_epoch):\n",
    "    train_loss = []\n",
    "    for data in train_data:\n",
    "        # 读入数据\n",
    "        x = Variable(torch.FloatTensor(data[0])).unsqueeze(0)\n",
    "        y = Variable(torch.FloatTensor(data[1])).unsqueeze(0)\n",
    "        # 模型预测\n",
    "        output = model(x)\n",
    "        \n",
    "        # 反向传播算法训练\n",
    "        optimizer.zero_grad()\n",
    "        loss = criterion(output, y)\n",
    "        train_loss.append(loss.data.numpy()[0])\n",
    "        loss.backward()\n",
    "        optimizer.step()\n",
    "    # 在校验集上测试一下效果\n",
    "    valid_loss = []\n",
    "    for data in valid_data:\n",
    "        x = Variable(torch.FloatTensor(data[0])).unsqueeze(0)\n",
    "        y = Variable(torch.FloatTensor(data[1])).unsqueeze(0)\n",
    "        output = model(x)\n",
    "        loss = criterion(output, y)\n",
    "        valid_loss.append(loss.data.numpy()[0])\n",
    "    results.append([np.mean(train_loss), np.mean(valid_loss)])\n",
    "    print('{}轮，训练Loss: {:.2f}, 校验Loss: {:.2f}'.format(epoch, np.mean(train_loss), np.mean(valid_loss)))\n"
   ]
  },
  {
   "cell_type": "code",
   "execution_count": 59,
   "metadata": {},
   "outputs": [
    {
     "data": {
      "text/plain": [
       "<matplotlib.legend.Legend at 0x28d928d0>"
      ]
     },
     "execution_count": 59,
     "metadata": {},
     "output_type": "execute_result"
    },
    {
     "data": {
      "image/png": "[encoded data removed]",
      "text/plain": [
       "<matplotlib.figure.Figure at 0x3c1b1940>"
      ]
     },
     "metadata": {},
     "output_type": "display_data"
    }
   ],
   "source": [
    "# 绘制图形\n",
    "a = [i[0] for i in results]\n",
    "b = [i[1] for i in results]\n",
    "plt.plot(a, 'o', label = 'Training Loss')\n",
    "plt.plot(b, 's', label = 'Validation Loss')\n",
    "plt.xlabel('Epoch')\n",
    "plt.ylabel('Loss Function')\n",
    "plt.legend()"
   ]
  },
  {
   "cell_type": "code",
   "execution_count": 61,
   "metadata": {},
   "outputs": [
    {
     "name": "stdout",
     "output_type": "stream",
     "text": [
      "精确匹配率：0.08\n",
      "一字匹配率：0.17\n",
      "[['罐', '履带'], ['图像', '图像'], ['先生', '彼得'], ['狄龙', '杰克'], ['未知', '死去'], ['肉', '屑'], ['呆', '休息'], ['顶', '白色'], ['卡盘', '杰克'], ['尤利乌斯', '彼得'], ['驼背', '鲸鱼'], ['什么', '体育运动'], ['钉', '夹子'], ['幸运', '我'], ['嘲弄', '大笑'], ['密西西比', '谷地'], ['结巴', '站起'], ['闪耀', '光亮'], ['进行', '停下来'], ['商务', '布偶'], ['雷鸣', '响起'], ['动画', '音乐'], ['耸立', '悬空'], ['吃', '吃'], ['作物', '繁殖'], ['躺', '水沟'], ['真理', '真理'], ['简单', '简单'], ['异常', '明显'], ['危害', '威胁'], ['山姆', '哥哥'], ['尖叫', '大叫'], ['支持', '和'], ['发生', '因为'], ['带', '舞'], ['走', '看见'], ['修剪', '蹲'], ['警告', '警告'], ['天', '晚上'], ['迎来', '重现'], ['主机', '招待'], ['出生', '患病'], ['小', '小孔'], ['示意', '迟疑'], ['结算', '清理'], ['丑', '暴君'], ['可能', '可能'], ['加班', '分'], ['数', '平均'], ['怀疑', '不解'], ['命运', '毁灭'], ['禁止', '强迫'], ['缝', '脖子'], ['拉斯维加斯', '海滩'], ['青少年', '女孩'], ['山墙', '尖顶'], ['旁路', '复位'], ['护腿', '裙子'], ['企业', '企业'], ['精神', '食物'], ['周日', '工作日'], ['斜眼', '看到'], ['痛苦', '脆弱'], ['大吃一惊', '淡定'], ['完善', '它'], ['偏执', '恐惧'], ['兔', '蜥蜴'], ['打扰', '我'], ['扣除', '费用'], ['节奏', '颤动'], ['鲸鱼', '蜥蜴'], ['路面', '地面'], ['颚', '头'], ['吃', '吃'], ['沉思', '说'], ['池', '水池'], ['肩', '后背'], ['一般', '因此'], ['调', '唱歌'], ['框架', '墙壁'], ['指出', '说'], ['穿着', '穿着'], ['大幅', '收缩'], ['打鼾', '身体'], ['招', '你'], ['出现', '瓦解'], ['无论', '所以'], ['溅射', '左右摇摆'], ['囚犯', '犯人'], ['汉堡', '香肠'], ['躺', '把'], ['获取', '就算'], ['拉伸', '边沿'], ['秘密', '罪恶'], ['放心', '担心'], ['迫切', '维护'], ['交谈', '不耐烦'], ['并', '真的'], ['维也纳', '法国'], ['失望', '失望'], ['地区', '环境'], ['保留', '稳固'], ['从', '大约'], ['然而', '或者说'], ['116', '50'], ['西装', '黑色'], ['串行', '脚本'], ['成长', '繁殖'], ['考虑', '要求'], ['同意', '同意'], ['开始', '重新启动'], ['别墅', '海滩'], ['原谅', '原谅'], ['植物', '炭化'], ['布', '布料'], ['粉碎', '碎裂'], ['复制', '序列号'], ['杰姆斯', '彼得'], ['三重奏', '鼓手'], ['线索', '清楚'], ['承认', '说'], ['粘', '合上'], ['选择', '配料'], ['神秘', '黑暗'], ['皮裤', '复古'], ['龙', '图腾'], ['栖息', '不远处'], ['戴安娜', '她'], ['滴', '托盘'], ['逗乐', '不悦'], ['仔细', '方法'], ['木乃伊', '木乃伊'], ['大', '结构'], ['回复', '告诉他'], ['中', '10'], ['平方', '米'], ['家伙', '我'], ['毛', '%'], ['自然', '人类'], ['滑稽', '滑稽'], ['讯问', '处理'], ['板', '木板'], ['改编', '构造'], ['帮腔', '喊'], ['有些', '似乎'], ['货架', '盒'], ['去', '你'], ['围巾', '头巾'], ['猛烈', '惊恐'], ['土豆', '肉'], ['烦', '害怕'], ['惊慌', '怀疑'], ['能力', '技术'], ['唐纳', '冒犯'], ['位置', '所在位置'], ['成熟', '营养'], ['龙骨', '头'], ['熏', '幸灾乐祸'], ['困惑', '不悦'], ['零', '钩子'], ['嘴唇', '脖子'], ['进展', '渐入佳境'], ['平均', '可能'], ['按钮', '部位'], ['计算', '应用'], ['坚持', '承认'], ['妥善', '处理'], ['适当', '有效'], ['小', '大小不一'], ['踢', '打'], ['数据', '应用'], ['尝试', '打断'], ['跳舞', '跳舞'], ['知道', '因为'], ['方便', '方便'], ['开始', '结束'], ['金', '金色'], ['超级', '超级'], ['复制', '拷贝'], ['初步', '确认'], ['实现', '我们'], ['我们', '当然'], ['赞助商', '授权'], ['阿瓦隆', '麦基诺'], ['樟脑丸', '打碎'], ['洋葱', '肉'], ['可信', '的'], ['帕洛', '任振华'], ['收集器', '古董'], ['证明', '因为'], ['打趣', '我'], ['基因', '小鼠'], ['妈妈', '我'], ['失去', '因为'], ['学习', '自己'], ['兴奋', '开心'], ['笑', '好像'], ['抓住', '跑掉'], ['奖', '荣誉'], ['前', '收钱'], ['粮食', '蔬菜'], ['回复', '告诉他'], ['狗', '狗狗'], ['饮用', '吃'], ['阅读', '翻阅'], ['队长', '巴顿'], ['埋', '埋葬'], ['巴克', '兔子'], ['牛仔', '长袍'], ['生长', '生长'], ['手机', '控制器'], ['位置', '站位'], ['抽搐', '抽动'], ['画', '打'], ['咀嚼', '咬'], ['文件', '文档'], ['铆接', '敲打'], ['惊讶', '诧异'], ['自己', '你'], ['帆船', '行进'], ['秒', '秒'], ['尝试', '自己'], ['报警', '求救'], ['迅速', '果断'], ['降落', '倒'], ['两侧', '反方向'], ['起毛', '取下'], ['催眠', '害怕'], ['整洁', '横竖'], ['六', '20'], ['敷衍了事', '说话'], ['举行', '驻地'], ['概念', '建构'], ['事故', '故障'], ['警卫', '警卫'], ['无奈', '恐惧'], ['能', '需要'], ['酒吧', '餐厅'], ['计划', '方案'], ['排序', '的'], ['变相', '伪装成'], ['钩', '拧'], ['圈', '方格'], ['你', '真的'], ['水平', '强度'], ['敌对', '仇视'], ['电视', '电视'], ['而', '干扰'], ['挤', '用力'], ['破坏', '毁灭']]\n"
     ]
    }
   ],
   "source": [
    "# 在测试集上验证准确度\n",
    "# 检验标准有两个：一个是直接用预测的词和标准答案做全词匹配；另一个是做单字的匹配\n",
    "exact_same = 0  #全词匹配数量\n",
    "one_same = 0 #单字匹配数量\n",
    "results = []\n",
    "for i, data in enumerate(test_data):\n",
    "    x = Variable(torch.FloatTensor(data[0])).unsqueeze(0)\n",
    "    # 给出模型的输出\n",
    "    output = model(x)\n",
    "    output = output.squeeze().data.numpy()\n",
    "    # 从中文词向量中找到与输出向量最相似的向量\n",
    "    most_similar = word_vectors.wv.similar_by_vector(output, 1)\n",
    "    # 将标准答案中的词与最相似的向量所对应的词打印出来\n",
    "    results.append([original_words[i][1], most_similar[0][0]])\n",
    "    \n",
    "    # 全词匹配\n",
    "    if original_words[i][1] == most_similar[0][0]:\n",
    "        exact_same += 1\n",
    "    # 某一个字匹配\n",
    "    if list(set(list(original_words[i][1])) & set(list(most_similar[0][0]))) != []:\n",
    "        one_same += 1\n",
    "    \n",
    "print(\"精确匹配率：{:.2f}\".format(1.0 * exact_same / len(test_data)))\n",
    "print('一字匹配率：{:.2f}'.format(1.0 * one_same / len(test_data)))\n",
    "print(results)"
   ]
  },
  {
   "cell_type": "code",
   "execution_count": null,
   "metadata": {
    "collapsed": true
   },
   "outputs": [],
   "source": []
  }
 ],
 "metadata": {
  "kernelspec": {
   "display_name": "Python 3",
   "language": "python",
   "name": "python3"
  },
  "language_info": {
   "codemirror_mode": {
    "name": "ipython",
    "version": 3
   },
   "file_extension": ".py",
   "mimetype": "text/x-python",
   "name": "python",
   "nbconvert_exporter": "python",
   "pygments_lexer": "ipython3",
   "version": "3.6.2"
  }
 },
 "nbformat": 4,
 "nbformat_minor": 2
}
