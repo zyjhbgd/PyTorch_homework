{
 "cells": [
  {
   "cell_type": "markdown",
   "metadata": {},
   "source": [
    "![](http://wiki.swarma.net/images/e/e7/集智AI学园首页左上角logo_2017.8.17.png)"
   ]
  },
  {
   "cell_type": "markdown",
   "metadata": {},
   "source": [
    "# 火炬上的深度学习（下）第二节：机器也懂感情？"
   ]
  },
  {
   "cell_type": "markdown",
   "metadata": {},
   "source": [
    "## 课后练习：使用 LSTM 来判断人名属于哪个国家"
   ]
  },
  {
   "cell_type": "markdown",
   "metadata": {},
   "source": [
    "我们要使用 PyTorch 搭建一个 LSTM 模型。\n",
    "\n",
    "模型的输入是用ASCII字符表示的姓氏，输出是模型对这个姓氏所属语言的判断。\n",
    "\n",
    "模型的训练数据是来自18种语言的2万条左右的姓氏文本。\n",
    "\n",
    "训练完毕的理想模型可以预测出一个姓氏是属于哪种语言的。并且，我们还可以通过模型的预测结果分析各语言姓氏的相似性。"
   ]
  },
  {
   "cell_type": "markdown",
   "metadata": {},
   "source": [
    "最终训练好的模型可以像下面那样使用。"
   ]
  },
  {
   "cell_type": "markdown",
   "metadata": {},
   "source": [
    "```python\n",
    "predict Hinton\n",
    "(-0.47) Scottish\n",
    "(-1.52) English\n",
    "(-3.57) Irish\n",
    "\n",
    "predict.py Schmidhuber\n",
    "(-0.19) German\n",
    "(-2.48) Czech\n",
    "(-2.68) Dutch\n",
    "```"
   ]
  },
  {
   "cell_type": "markdown",
   "metadata": {},
   "source": [
    "## 理解 LSTM"
   ]
  },
  {
   "cell_type": "markdown",
   "metadata": {},
   "source": [
    "看到本练习相信你已经对 LSTM 有一定的认识了。\n",
    "\n",
    "如果还不熟悉 LSTM 可以再去看一下张老师讲的[课程](http://campus.swarma.org/gcou=10341)"
   ]
  },
  {
   "cell_type": "markdown",
   "metadata": {},
   "source": [
    "## 处理训练数据"
   ]
  },
  {
   "cell_type": "markdown",
   "metadata": {},
   "source": [
    "在提供的数据文件中，包含在 data/names 目录下的是18个命名规则为\"[Language].txt\"的文本文件，每个文件都包含一些名字，每个名字占一行。"
   ]
  },
  {
   "cell_type": "code",
   "execution_count": 1,
   "metadata": {
    "scrolled": true
   },
   "outputs": [
    {
     "name": "stdout",
     "output_type": "stream",
     "text": [
      "['./data/names\\\\Arabic.txt', './data/names\\\\Chinese.txt', './data/names\\\\Czech.txt', './data/names\\\\Dutch.txt', './data/names\\\\English.txt', './data/names\\\\French.txt', './data/names\\\\German.txt', './data/names\\\\Greek.txt', './data/names\\\\Irish.txt', './data/names\\\\Italian.txt', './data/names\\\\Japanese.txt', './data/names\\\\Korean.txt', './data/names\\\\Polish.txt', './data/names\\\\Portuguese.txt', './data/names\\\\Russian.txt', './data/names\\\\Scottish.txt', './data/names\\\\Spanish.txt', './data/names\\\\Vietnamese.txt']\n"
     ]
    }
   ],
   "source": [
    "import glob\n",
    "\n",
    "all_filenames = glob.glob('./data/names/*.txt')\n",
    "print(all_filenames)"
   ]
  },
  {
   "cell_type": "markdown",
   "metadata": {},
   "source": [
    "现在先让我们解决这个问题：\n",
    "\n",
    "在我们收集的18种语言的名字中，中文、日文、韩文等名字都已经转化为音译的字母。这样做是因为有些语言的名字并不能用普通的ASCII英文字符来表示，比如“Ślusàrski”，这些不一样的字母会增加神经网络的“困惑”，影响其训练效果。所以我们得首先把这些特别的字母转换成普通的ASCII字符（即26个英文字母）。"
   ]
  },
  {
   "cell_type": "code",
   "execution_count": 2,
   "metadata": {},
   "outputs": [
    {
     "name": "stdout",
     "output_type": "stream",
     "text": [
      "Slusarski\n",
      "all_letters: abcdefghijklmnopqrstuvwxyzABCDEFGHIJKLMNOPQRSTUVWXYZ .,;'\n",
      "all_letters: 57\n"
     ]
    }
   ],
   "source": [
    "import unicodedata\n",
    "import string\n",
    "\n",
    "# 使用26个英文字母大小写再加上.,;这三个字符\n",
    "# 建立字母表，并取其长度\n",
    "all_letters = string.ascii_letters + \" .,;'\"\n",
    "n_letters = len(all_letters)\n",
    "\n",
    "\n",
    "# 将Unicode字符串转换为纯ASCII\n",
    "def unicode_to_ascii(s):\n",
    "    return ''.join(\n",
    "        c for c in unicodedata.normalize('NFD', s)\n",
    "        if unicodedata.category(c) != 'Mn'\n",
    "        and c in all_letters\n",
    "    )\n",
    "\n",
    "print(unicode_to_ascii('Ślusàrski'))\n",
    "print('all_letters:', all_letters)\n",
    "print('all_letters:', len(all_letters))"
   ]
  },
  {
   "cell_type": "markdown",
   "metadata": {},
   "source": [
    "然后再建立 readLines 方法，用于从文件中一行一行的将姓氏读取出来。\n",
    "\n",
    "以18种语言为索引，将读取出的姓氏各自存储在名为 `category_lines` 的字典中。"
   ]
  },
  {
   "cell_type": "code",
   "execution_count": 3,
   "metadata": {
    "scrolled": false
   },
   "outputs": [
    {
     "name": "stdout",
     "output_type": "stream",
     "text": [
      "all_categories: ['Arabic', 'Chinese', 'Czech', 'Dutch', 'English', 'French', 'German', 'Greek', 'Irish', 'Italian', 'Japanese', 'Korean', 'Polish', 'Portuguese', 'Russian', 'Scottish', 'Spanish', 'Vietnamese']\n",
      "n_categories = 18\n"
     ]
    }
   ],
   "source": [
    "import os.path\n",
    "\n",
    "# 构建category_lines字典，名字和每种语言对应的列表\n",
    "category_lines = {}\n",
    "all_categories = []\n",
    "\n",
    "# 按行读取出名字并转换成纯ASCII\n",
    "def readLines(filename):\n",
    "    lines = open(filename).read().strip().split('\\n')\n",
    "    return [unicode_to_ascii(line) for line in lines]\n",
    "\n",
    "for filename in all_filenames:\n",
    "    # 取出每个文件的文件名（语言名）\n",
    "    #category = filename.split('/')[-1].split('.')[0]\n",
    "    category = os.path.splitext(os.path.split(filename)[-1])[0]\n",
    "    # 将语言名加入到all_categories列表\n",
    "    all_categories.append(category)\n",
    "    # 取出所有的姓氏lines\n",
    "    lines = readLines(filename)\n",
    "    # 将所有姓氏以语言为索引，加入到字典中\n",
    "    category_lines[category] = lines\n",
    "\n",
    "n_categories = len(all_categories)\n",
    "\n",
    "print('all_categories:', all_categories)\n",
    "print('n_categories =', n_categories)"
   ]
  },
  {
   "cell_type": "markdown",
   "metadata": {},
   "source": [
    "`all_categories` 中包含18种语言的姓氏。\n",
    "\n",
    "`category_lines` 中以18种语言为索引，存储了所有的姓氏。"
   ]
  },
  {
   "cell_type": "code",
   "execution_count": 4,
   "metadata": {
    "scrolled": true
   },
   "outputs": [
    {
     "name": "stdout",
     "output_type": "stream",
     "text": [
      "['Abandonato', 'Abatangelo', 'Abatantuono', 'Abate', 'Abategiovanni']\n"
     ]
    }
   ],
   "source": [
    "print(category_lines['Italian'][:5])"
   ]
  },
  {
   "cell_type": "markdown",
   "metadata": {},
   "source": [
    "我们来统计下数据中所有姓氏的个数。"
   ]
  },
  {
   "cell_type": "code",
   "execution_count": 5,
   "metadata": {
    "scrolled": true
   },
   "outputs": [
    {
     "name": "stdout",
     "output_type": "stream",
     "text": [
      "20074\n"
     ]
    }
   ],
   "source": [
    "all_line_num = 0\n",
    "for key in category_lines:\n",
    "    all_line_num += len(category_lines[key])\n",
    "print(all_line_num)"
   ]
  },
  {
   "cell_type": "markdown",
   "metadata": {},
   "source": [
    "## 准备训练"
   ]
  },
  {
   "cell_type": "code",
   "execution_count": 6,
   "metadata": {
    "collapsed": true
   },
   "outputs": [],
   "source": [
    "# 首先导入程序所需要的程序包\n",
    "\n",
    "#PyTorch用的包\n",
    "import torch\n",
    "import torch.nn as nn\n",
    "import torch.optim\n",
    "from torch.autograd import Variable\n",
    "\n",
    "\n",
    "#绘图、计算用的程序包\n",
    "import matplotlib.pyplot as plt\n",
    "import matplotlib.ticker as ticker\n",
    "\n",
    "import numpy as np\n",
    "\n",
    "%matplotlib inline"
   ]
  },
  {
   "cell_type": "markdown",
   "metadata": {},
   "source": [
    "下面我们再编写一个方法用于快速地获得一个训练实例（即一个名字以及它所属的语言）：\n",
    "\n",
    "其中 line_index 中保存的是选择的姓氏中的字母的索引，这个需要你去实现。"
   ]
  },
  {
   "cell_type": "code",
   "execution_count": 7,
   "metadata": {},
   "outputs": [
    {
     "name": "stdout",
     "output_type": "stream",
     "text": [
      "category = Irish / line = O'Bree\n",
      "category = 8 / line = [40, 56, 27, 17, 4, 4]\n",
      "category = Japanese / line = Okuma\n",
      "category = 10 / line = [40, 10, 20, 12, 0]\n",
      "category = Czech / line = Nadwornik\n",
      "category = 2 / line = [39, 0, 3, 22, 14, 17, 13, 8, 10]\n",
      "category = Dutch / line = Kikkert\n",
      "category = 3 / line = [36, 8, 10, 10, 4, 17, 19]\n",
      "category = Greek / line = Glynatsis\n",
      "category = 7 / line = [32, 11, 24, 13, 0, 19, 18, 8, 18]\n"
     ]
    }
   ],
   "source": [
    "import random\n",
    "\n",
    "def random_training_pair():   \n",
    "    # 随机选择一种语言\n",
    "    category = random.choice(all_categories)\n",
    "    # 从语言中随机选择一个姓氏\n",
    "    line = random.choice(category_lines[category])\n",
    "    # 我们将姓氏和语言都转化为索引\n",
    "    category_index = all_categories.index(category)\n",
    "    \n",
    "    line_index = []\n",
    "    # 你需要把 line 中字母的索引加入到line_index 中\n",
    "    # Todo:\n",
    "    for c in line:\n",
    "        #line_index.append(ord(c)-ord('A'))\n",
    "        line_index.append(all_letters.find(c))\n",
    "    \n",
    "    \n",
    "    return category, line, category_index, line_index\n",
    "\n",
    "# 测试一下上面的函数方法\n",
    "for i in range(5):\n",
    "    category, line, category_index, line_index = random_training_pair()\n",
    "    print('category =', category, '/ line =', line)\n",
    "    print('category =', category_index, '/ line =', line_index)"
   ]
  },
  {
   "cell_type": "markdown",
   "metadata": {},
   "source": [
    "我们再建立一个用户转化模型输出的辅助函数。\n",
    "\n",
    "它可以把网络的输出（1 x 18的张量）转化成“最可能的语言类别”，这就需要找到18列数据中哪个概率值最大。\n",
    "\n",
    "我们可以使用 `Tensor.topk` 方法来得到数据中最大值位置的索引。"
   ]
  },
  {
   "cell_type": "code",
   "execution_count": 9,
   "metadata": {
    "collapsed": true
   },
   "outputs": [],
   "source": [
    "def category_from_output(output):\n",
    "    # 1 代表在‘列’间找到最大\n",
    "    # top_n 是具体的值\n",
    "    # top_i 是位置索引\n",
    "    # 注意这里 top_n 和 top_i 都是1x1的张量\n",
    "    # output.data 取出张量数据\n",
    "    top_n, top_i = output.data.topk(1) # Tensor out of Variable with .data\n",
    "    # 从张量中取出索引值\n",
    "    category_i = top_i[0][0]\n",
    "    # 返回语言类别名和位置索引\n",
    "    return all_categories[category_i], category_i"
   ]
  },
  {
   "cell_type": "markdown",
   "metadata": {},
   "source": [
    "## 编写 LSTM 模型"
   ]
  },
  {
   "cell_type": "markdown",
   "metadata": {},
   "source": [
    "现在是建立 LSTM 模型的时候了。\n",
    "\n",
    "我在模型中设置了一些空缺，**你需要编写空缺处的代码。**\n",
    "\n",
    "如果遇到问题，可以参考[课程](http://campus.swarma.org/gcou=10341)中的代码讲解哦！"
   ]
  },
  {
   "cell_type": "code",
   "execution_count": 14,
   "metadata": {
    "collapsed": true
   },
   "outputs": [],
   "source": [
    "class LSTMNetwork(nn.Module):\n",
    "    def __init__(self, input_size, embedding_size, hidden_size, output_size, n_layers=1):\n",
    "        super(LSTMNetwork, self).__init__()\n",
    "        self.n_layers = n_layers\n",
    "        self.hidden_size = hidden_size\n",
    "        self.embedding_size = embedding_size\n",
    "\n",
    "        # LSTM的构造如下：\n",
    "        # 一个embedding层，将输入的任意一个单词（list）映射为一个向量（向量的维度与隐含层有关系？）\n",
    "        # 没有关系，embedding使输出向量与隐含层维度相同只是由于想让序列中的每个元素有一个对应的隐含状态值。\n",
    "        # 但是这只是人类的想法，事实上机器并不一定这样处理就最好。\n",
    "        self.embedding = nn.Embedding(input_size, embedding_size)\n",
    "        # 然后是一个LSTM隐含层，共有hidden_size个LSTM神经元，并且它可以根据n_layers设置层数\n",
    "        self.lstm = nn.LSTM(embedding_size, hidden_size, n_layers)\n",
    "        # 接着是一个全链接层，外接一个softmax输出\n",
    "        self.fc = nn.Linear(hidden_size, output_size)\n",
    "        self.logsoftmax = nn.LogSoftmax()\n",
    "\n",
    "    def forward(self, input, hidden=None):\n",
    "        #首先根据输入input，进行词向量嵌入\n",
    "        embedded = self.embedding(input)\n",
    "        \n",
    "        # 这里需要注意！\n",
    "        # PyTorch设计的LSTM层有一个特别别扭的地方是，输入张量的第一个维度需要是时间步，\n",
    "        # 第二个维度才是batch_size，所以需要对embedded变形\n",
    "        # 因为此次没有采用batch，所以batch_size为1\n",
    "        # 变形的维度应该是（input_list_size, batch_size, hidden_size）\n",
    "        embedded = embedded.view(input.data.size()[0], 1, self.embedding_size)\n",
    "    \n",
    "        # 调用PyTorch自带的LSTM层函数，注意有两个输入，一个是输入层的输入，另一个是隐含层自身的输入\n",
    "        # 输出output是所有步的隐含神经元的输出结果，hidden是隐含层在最后一个时间步的状态。\n",
    "        # 注意hidden是一个tuple，包含了最后时间步的隐含层神经元的输出，以及每一个隐含层神经元的cell的状态\n",
    "        \n",
    "        output, hidden = self.lstm(embedded, hidden)\n",
    "        \n",
    "        #我们要把最后一个时间步的隐含神经元输出结果拿出来，送给全连接层\n",
    "        output = output[-1,...]\n",
    "\n",
    "        #全链接层\n",
    "        out = self.fc(output)\n",
    "        # softmax\n",
    "        out = self.logsoftmax(out)\n",
    "        return out\n",
    "\n",
    "    def initHidden(self):\n",
    "        # 对隐单元的初始化\n",
    "        # 对引单元输出的初始化，全0.\n",
    "        # 注意hidden和cell的维度都是layers,batch_size,hidden_size\n",
    "        hidden = Variable(torch.zeros(self.n_layers, 1, self.hidden_size))\n",
    "        # 对隐单元内部的状态cell的初始化，全0\n",
    "        cell = Variable(torch.zeros(self.n_layers, 1, self.hidden_size))\n",
    "        return (hidden, cell)\n",
    "\n"
   ]
  },
  {
   "cell_type": "markdown",
   "metadata": {},
   "source": [
    "## 训练网络"
   ]
  },
  {
   "cell_type": "markdown",
   "metadata": {},
   "source": [
    "每次训练模型的时候，我的心里都是有点小激动的！\n",
    "\n",
    "我同样在训练程序中预留了一些空位，**你要编写空余位置的程序**，训练才可以正常进行。"
   ]
  },
  {
   "cell_type": "code",
   "execution_count": 24,
   "metadata": {
    "scrolled": false
   },
   "outputs": [
    {
     "name": "stdout",
     "output_type": "stream",
     "text": [
      "第0轮，训练损失：2.53，训练进度：0.5%，（0m 22s），名字：Rosario，预测国家：Italian，正确？✗ (Portuguese)\n",
      "第0轮，训练损失：2.03，训练进度：1.0%，（0m 45s），名字：Assaf，预测国家：Arabic，正确？✓\n",
      "第0轮，训练损失：1.85，训练进度：1.49%，（1m 7s），名字：Manoukarakis，预测国家：Greek，正确？✓\n",
      "第0轮，训练损失：1.71，训练进度：1.99%，（1m 29s），名字：Zabek，预测国家：Polish，正确？✓\n",
      "第0轮，训练损失：1.62，训练进度：2.49%，（1m 52s），名字：Joubert，预测国家：Dutch，正确？✗ (French)\n",
      "第0轮，训练损失：1.55，训练进度：2.99%，（2m 17s），名字：Emerick，预测国家：Polish，正确？✗ (English)\n",
      "第1轮，训练损失：1.47，训练进度：3.83%，（3m 1s），名字：Hyun ，预测国家：Korean，正确？✓\n",
      "第1轮，训练损失：1.37，训练进度：4.33%，（3m 27s），名字：Shaitanov，预测国家：Russian，正确？✓\n",
      "第1轮，训练损失：1.30，训练进度：4.83%，（3m 52s），名字：Maehata，预测国家：Japanese，正确？✓\n",
      "第1轮，训练损失：1.30，训练进度：5.33%，（4m 18s），名字：Blober，预测国家：Dutch，正确？✗ (Czech)\n",
      "第1轮，训练损失：1.22，训练进度：5.82%，（4m 44s），名字：Bei，预测国家：Vietnamese，正确？✗ (Chinese)\n",
      "第1轮，训练损失：1.17，训练进度：6.32%，（5m 9s），名字：Germano，预测国家：Italian，正确？✓\n",
      "第2轮，训练损失：1.16，训练进度：7.16%，（5m 52s），名字：Meier，预测国家：German，正确？✓\n",
      "第2轮，训练损失：1.10，训练进度：7.66%，（6m 15s），名字：Rios，预测国家：Portuguese，正确？✗ (Spanish)\n",
      "第2轮，训练损失：1.08，训练进度：8.16%，（6m 37s），名字：Zhuan，预测国家：Arabic，正确？✗ (Chinese)\n",
      "第2轮，训练损失：1.04，训练进度：8.66%，（6m 59s），名字：O'Keefe，预测国家：Irish，正确？✓\n",
      "第2轮，训练损失：1.01，训练进度：9.16%，（7m 20s），名字：Boutros，预测国家：Arabic，正确？✓\n",
      "第2轮，训练损失：0.98，训练进度：9.66%，（7m 44s），名字：Trumbauer，预测国家：German，正确？✓\n",
      "第3轮，训练损失：0.97，训练进度：10.5%，（8m 24s），名字：Nuremberg，预测国家：German，正确？✓\n",
      "第3轮，训练损失：0.93，训练进度：11.0%，（8m 53s），名字：Morrison，预测国家：Scottish，正确？✓\n",
      "第3轮，训练损失：0.90，训练进度：11.49%，（9m 16s），名字：Borovka，预测国家：Czech，正确？✓\n",
      "第3轮，训练损失：0.90，训练进度：11.99%，（9m 40s），名字：Antonakos，预测国家：Greek，正确？✓\n",
      "第3轮，训练损失：0.87，训练进度：12.49%，（10m 7s），名字：Bonnet，预测国家：French，正确？✓\n",
      "第3轮，训练损失：0.87，训练进度：12.99%，（10m 30s），名字：Lapointe，预测国家：French，正确？✓\n",
      "第4轮，训练损失：0.84，训练进度：13.83%，（11m 8s），名字：Langlois，预测国家：French，正确？✓\n",
      "第4轮，训练损失：0.79，训练进度：14.33%，（11m 30s），名字：Heneghan，预测国家：Arabic，正确？✗ (English)\n",
      "第4轮，训练损失：0.79，训练进度：14.83%，（11m 52s），名字：Konarik，预测国家：Czech，正确？✓\n",
      "第4轮，训练损失：0.81，训练进度：15.33%，（12m 15s），名字：Rhee，预测国家：Korean，正确？✓\n",
      "第4轮，训练损失：0.79，训练进度：15.82%，（12m 37s），名字：Zinkovsky，预测国家：Russian，正确？✓\n",
      "第4轮，训练损失：0.78，训练进度：16.32%，（12m 59s），名字：Eliopoulos，预测国家：Greek，正确？✓\n",
      "第5轮，训练损失：0.75，训练进度：17.16%，（13m 36s），名字：Villaverde，预测国家：French，正确？✗ (Spanish)\n",
      "第5轮，训练损失：0.76，训练进度：17.66%，（13m 58s），名字：Mndez，预测国家：Spanish，正确？✓\n",
      "第5轮，训练损失：0.73，训练进度：18.16%，（14m 20s），名字：Antonino，预测国家：Italian，正确？✓\n",
      "第5轮，训练损失：0.72，训练进度：18.66%，（14m 43s），名字：Wright，预测国家：Scottish，正确？✓\n",
      "第5轮，训练损失：0.68，训练进度：19.16%，（15m 5s），名字：Bang，预测国家：Korean，正确？✓\n",
      "第5轮，训练损失：0.75，训练进度：19.66%，（15m 28s），名字：Pan，预测国家：Chinese，正确？✗ (French)\n",
      "第6轮，训练损失：0.69，训练进度：20.5%，（16m 4s），名字：Cathan，预测国家：Irish，正确？✓\n",
      "第6轮，训练损失：0.70，训练进度：21.0%，（16m 26s），名字：Charron，预测国家：English，正确？✗ (French)\n",
      "第6轮，训练损失：0.70，训练进度：21.49%，（16m 49s），名字：Morello，预测国家：Italian，正确？✓\n",
      "第6轮，训练损失：0.71，训练进度：21.99%，（17m 11s），名字：Cihak，预测国家：Czech，正确？✓\n",
      "第6轮，训练损失：0.70，训练进度：22.49%，（17m 33s），名字：Sanna，预测国家：Czech，正确？✗ (Italian)\n",
      "第6轮，训练损失：0.64，训练进度：22.99%，（17m 55s），名字：Fairlie，预测国家：Scottish，正确？✗ (English)\n",
      "第7轮，训练损失：0.65，训练进度：23.83%，（18m 34s），名字：Ruba，预测国家：Spanish，正确？✗ (Czech)\n",
      "第7轮，训练损失：0.67，训练进度：24.33%，（19m 1s），名字：Ogata，预测国家：Japanese，正确？✓\n",
      "第7轮，训练损失：0.66，训练进度：24.83%，（19m 27s），名字：Modegi，预测国家：Italian，正确？✗ (Japanese)\n",
      "第7轮，训练损失：0.62，训练进度：25.33%，（19m 52s），名字：Lokay，预测国家：Czech，正确？✓\n",
      "第7轮，训练损失：0.65，训练进度：25.82%，（20m 15s），名字：Stewart，预测国家：Scottish，正确？✓\n",
      "第7轮，训练损失：0.63，训练进度：26.32%，（20m 39s），名字：Fenstermacher，预测国家：German，正确？✓\n",
      "第8轮，训练损失：0.62，训练进度：27.16%，（21m 17s），名字：Kim，预测国家：Vietnamese，正确？✗ (Korean)\n",
      "第8轮，训练损失：0.60，训练进度：27.66%，（21m 42s），名字：Sarto，预测国家：Italian，正确？✓\n",
      "第8轮，训练损失：0.62，训练进度：28.16%，（22m 6s），名字：Abaroa，预测国家：Spanish，正确？✓\n",
      "第8轮，训练损失：0.64，训练进度：28.66%，（22m 29s），名字：Missiakos，预测国家：Greek，正确？✓\n",
      "第8轮，训练损失：0.60，训练进度：29.16%，（22m 56s），名字：Gianakopulos，预测国家：Greek，正确？✓\n",
      "第8轮，训练损失：0.63，训练进度：29.66%，（23m 21s），名字：Ku，预测国家：Korean，正确？✓\n",
      "第9轮，训练损失：0.58，训练进度：30.5%，（24m 0s），名字：Xiang，预测国家：Chinese，正确？✓\n",
      "第9轮，训练损失：0.63，训练进度：31.0%，（24m 24s），名字：Sheng，预测国家：Chinese，正确？✓\n",
      "第9轮，训练损失：0.57，训练进度：31.49%，（24m 47s），名字：Monette，预测国家：French，正确？✓\n",
      "第9轮，训练损失：0.58，训练进度：31.99%，（25m 10s），名字：Basurto，预测国家：Spanish，正确？✗ (Portuguese)\n",
      "第9轮，训练损失：0.56，训练进度：32.49%，（25m 33s），名字：Ramaker，预测国家：Dutch，正确？✓\n",
      "第9轮，训练损失：0.60，训练进度：32.99%，（25m 58s），名字：O'Ryan，预测国家：Irish，正确？✓\n",
      "第10轮，训练损失：0.57，训练进度：33.83%，（26m 42s），名字：Faolan，预测国家：Irish，正确？✓\n",
      "第10轮，训练损失：0.60，训练进度：34.33%，（27m 7s），名字：Roche，预测国家：French，正确？✓\n",
      "第10轮，训练损失：0.55，训练进度：34.83%，（27m 32s），名字：Awduewsky，预测国家：Russian，正确？✓\n",
      "第10轮，训练损失：0.57，训练进度：35.33%，（27m 57s），名字：Chermak，预测国家：Czech，正确？✓\n",
      "第10轮，训练损失：0.58，训练进度：35.82%，（28m 22s），名字：Phung，预测国家：Vietnamese，正确？✓\n",
      "第10轮，训练损失：0.55，训练进度：36.32%，（28m 48s），名字：Handal，预测国家：Arabic，正确？✓\n",
      "第11轮，训练损失：0.55，训练进度：37.16%，（29m 30s），名字：Walentowicz，预测国家：Polish，正确？✓\n",
      "第11轮，训练损失：0.55，训练进度：37.66%，（29m 56s），名字：Albert，预测国家：French，正确？✗ (Spanish)\n",
      "第11轮，训练损失：0.51，训练进度：38.16%，（30m 21s），名字：Kopp，预测国家：German，正确？✗ (Czech)\n",
      "第11轮，训练损失：0.57，训练进度：38.66%，（30m 46s），名字：Ly，预测国家：Vietnamese，正确？✓\n",
      "第11轮，训练损失：0.55，训练进度：39.16%，（31m 11s），名字：Ziyakov，预测国家：Russian，正确？✓\n",
      "第11轮，训练损失：0.54，训练进度：39.66%，（31m 36s），名字：Panoulias，预测国家：Greek，正确？✓\n",
      "第12轮，训练损失：0.55，训练进度：40.5%，（32m 18s），名字：Grant，预测国家：Scottish，正确？✓\n",
      "第12轮，训练损失：0.53，训练进度：41.0%，（32m 43s），名字：Shimaoka，预测国家：Japanese，正确？✓\n",
      "第12轮，训练损失：0.57，训练进度：41.49%，（33m 8s），名字：Campbell，预测国家：Scottish，正确？✓\n",
      "第12轮，训练损失：0.54，训练进度：41.99%，（33m 34s），名字：Beaulieu，预测国家：French，正确？✓\n",
      "第12轮，训练损失：0.54，训练进度：42.49%，（34m 0s），名字：Lazzari，预测国家：Italian，正确？✓\n",
      "第12轮，训练损失：0.55，训练进度：42.99%，（34m 26s），名字：Labelle，预测国家：French，正确？✓\n",
      "第13轮，训练损失：0.53，训练进度：43.83%，（35m 11s），名字：Telis，预测国家：Greek，正确？✓\n",
      "第13轮，训练损失：0.49，训练进度：44.33%，（35m 41s），名字：Guo，预测国家：Chinese，正确？✓\n",
      "第13轮，训练损失：0.51，训练进度：44.83%，（36m 7s），名字：Ajiganoff，预测国家：Russian，正确？✓\n",
      "第13轮，训练损失：0.47，训练进度：45.33%，（36m 36s），名字：Mcdougall，预测国家：Scottish，正确？✗ (English)\n",
      "第13轮，训练损失：0.53，训练进度：45.82%，（37m 4s），名字：Tuma，预测国家：Arabic，正确？✓\n",
      "第13轮，训练损失：0.50，训练进度：46.32%，（37m 28s），名字：Persein，预测国家：German，正确？✗ (Czech)\n",
      "第14轮，训练损失：0.50，训练进度：47.16%，（38m 13s），名字：Didenko，预测国家：Russian，正确？✓\n",
      "第14轮，训练损失：0.52，训练进度：47.66%，（38m 44s），名字：Kaima，预测国家：Japanese，正确？✓\n",
      "第14轮，训练损失：0.50，训练进度：48.16%，（39m 13s），名字：Rand，预测国家：German，正确？✗ (English)\n",
      "第14轮，训练损失：0.51，训练进度：48.66%，（39m 40s），名字：Forakis，预测国家：Greek，正确？✓\n",
      "第14轮，训练损失：0.52，训练进度：49.16%，（40m 5s），名字：Montagne，预测国家：French，正确？✓\n",
      "第14轮，训练损失：0.49，训练进度：49.66%，（40m 30s），名字：Lvque，预测国家：French，正确？✓\n",
      "第15轮，训练损失：0.50，训练进度：50.5%，（41m 12s），名字：Jackson，预测国家：Scottish，正确？✓\n",
      "第15轮，训练损失：0.50，训练进度：51.0%，（41m 38s），名字：Gribalev，预测国家：Russian，正确？✓\n",
      "第15轮，训练损失：0.51，训练进度：51.49%，（42m 4s），名字：Slattery，预测国家：English，正确？✓\n",
      "第15轮，训练损失：0.50，训练进度：51.99%，（42m 29s），名字：Deforest，预测国家：French，正确？✓\n",
      "第15轮，训练损失：0.49，训练进度：52.49%，（42m 55s），名字：Rorris，预测国家：Greek，正确？✓\n",
      "第15轮，训练损失：0.45，训练进度：52.99%，（43m 20s），名字：Totolos，预测国家：Greek，正确？✓\n",
      "第16轮，训练损失：0.48，训练进度：53.83%，（43m 59s），名字：Hierro，预测国家：Spanish，正确？✓\n",
      "第16轮，训练损失：0.48，训练进度：54.33%，（44m 24s），名字：Abboud，预测国家：Arabic，正确？✓\n",
      "第16轮，训练损失：0.46，训练进度：54.83%，（44m 51s），名字：Di pietro，预测国家：Italian，正确？✓\n",
      "第16轮，训练损失：0.47，训练进度：55.33%，（45m 16s），名字：Daalen，预测国家：Dutch，正确？✓\n",
      "第16轮，训练损失：0.47，训练进度：55.82%，（45m 41s），名字：Clark，预测国家：Scottish，正确？✓\n",
      "第16轮，训练损失：0.48，训练进度：56.32%，（46m 7s），名字：Paterson，预测国家：Scottish，正确？✓\n",
      "第17轮，训练损失：0.49，训练进度：57.16%，（46m 47s），名字：Ho，预测国家：Vietnamese，正确？✓\n",
      "第17轮，训练损失：0.49，训练进度：57.66%，（47m 12s），名字：Rheem，预测国家：Korean，正确？✓\n",
      "第17轮，训练损失：0.47，训练进度：58.16%，（47m 41s），名字：Nagatsuka，预测国家：Japanese，正确？✓\n",
      "第17轮，训练损失：0.48，训练进度：58.66%，（48m 5s），名字：Maslanka，预测国家：Polish，正确？✓\n",
      "第17轮，训练损失：0.43，训练进度：59.16%，（48m 30s），名字：Szweda，预测国家：Polish，正确？✓\n",
      "第17轮，训练损失：0.45，训练进度：59.66%，（49m 1s），名字：Grski，预测国家：Polish，正确？✓\n",
      "第18轮，训练损失：0.46，训练进度：60.5%，（49m 43s），名字：Cruz，预测国家：Portuguese，正确？✓\n",
      "第18轮，训练损失：0.46，训练进度：61.0%，（50m 8s），名字：Henderson，预测国家：Scottish，正确？✓\n",
      "第18轮，训练损失：0.46，训练进度：61.49%，（50m 34s），名字：Aart，预测国家：German，正确？✗ (Dutch)\n",
      "第18轮，训练损失：0.47，训练进度：61.99%，（50m 58s），名字：Jackson，预测国家：Scottish，正确？✓\n",
      "第18轮，训练损失：0.48，训练进度：62.49%，（51m 26s），名字：Leclerc，预测国家：French，正确？✓\n",
      "第18轮，训练损失：0.45，训练进度：62.99%，（51m 56s），名字：Espina，预测国家：Spanish，正确？✓\n",
      "第19轮，训练损失：0.49，训练进度：63.83%，（52m 37s），名字：Tzekhmistrenko，预测国家：Russian，正确？✓\n",
      "第19轮，训练损失：0.45，训练进度：64.33%，（53m 2s），名字：Fall，预测国家：English，正确？✓\n",
      "第19轮，训练损失：0.50，训练进度：64.83%，（53m 27s），名字：Niemczyk，预测国家：Polish，正确？✓\n",
      "第19轮，训练损失：0.47，训练进度：65.33%，（53m 51s），名字：Melo，预测国家：Portuguese，正确？✓\n",
      "第19轮，训练损失：0.46，训练进度：65.82%，（54m 16s），名字：Piskulov，预测国家：Russian，正确？✓\n",
      "第19轮，训练损失：0.45，训练进度：66.32%，（54m 41s），名字：Gifford，预测国家：Dutch，正确？✗ (English)\n",
      "第20轮，训练损失：0.45，训练进度：67.16%，（55m 23s），名字：Oorschot，预测国家：Dutch，正确？✓\n",
      "第20轮，训练损失：0.45，训练进度：67.66%，（55m 47s），名字：Kocian，预测国家：Czech，正确？✓\n",
      "第20轮，训练损失：0.48，训练进度：68.16%，（56m 10s），名字：Abboud，预测国家：Arabic，正确？✓\n",
      "第20轮，训练损失：0.43，训练进度：68.66%，（56m 34s），名字：King，预测国家：Scottish，正确？✓\n",
      "第20轮，训练损失：0.46，训练进度：69.16%，（56m 57s），名字：Sarraf，预测国家：Arabic，正确？✓\n"
     ]
    },
    {
     "name": "stdout",
     "output_type": "stream",
     "text": [
      "第20轮，训练损失：0.45，训练进度：69.66%，（57m 21s），名字：Ko，预测国家：Korean，正确？✓\n",
      "第21轮，训练损失：0.47，训练进度：70.5%，（58m 0s），名字：Lawniczak，预测国家：Polish，正确？✓\n",
      "第21轮，训练损失：0.46，训练进度：71.0%，（58m 25s），名字：Totah，预测国家：Arabic，正确？✓\n",
      "第21轮，训练损失：0.47，训练进度：71.49%，（58m 52s），名字：Kaiser，预测国家：German，正确？✓\n",
      "第21轮，训练损失：0.45，训练进度：71.99%，（59m 17s），名字：Miksatkova，预测国家：Czech，正确？✓\n",
      "第21轮，训练损失：0.44，训练进度：72.49%，（59m 41s），名字：Madeira，预测国家：Portuguese，正确？✓\n",
      "第21轮，训练损失：0.43，训练进度：72.99%，（60m 5s），名字：Yuan，预测国家：Chinese，正确？✓\n",
      "第22轮，训练损失：0.43，训练进度：73.83%，（60m 45s），名字：Tze，预测国家：Chinese，正确？✓\n",
      "第22轮，训练损失：0.42，训练进度：74.33%，（61m 9s），名字：Warszawski，预测国家：Polish，正确？✓\n",
      "第22轮，训练损失：0.45，训练进度：74.83%，（61m 33s），名字：Sutherland，预测国家：Scottish，正确？✓\n",
      "第22轮，训练损失：0.46，训练进度：75.33%，（61m 57s），名字：Rigatos，预测国家：Greek，正确？✓\n",
      "第22轮，训练损失：0.48，训练进度：75.82%，（62m 21s），名字：Koumanidis，预测国家：Greek，正确？✓\n",
      "第22轮，训练损失：0.42，训练进度：76.32%，（62m 44s），名字：Said，预测国家：Arabic，正确？✓\n",
      "第23轮，训练损失：0.44，训练进度：77.16%，（63m 24s），名字：Trampota，预测国家：Czech，正确？✓\n",
      "第23轮，训练损失：0.45，训练进度：77.66%，（63m 47s），名字：Hadash，预测国家：Russian，正确？✗ (Czech)\n",
      "第23轮，训练损失：0.43，训练进度：78.16%，（64m 11s），名字：Trieu，预测国家：Vietnamese，正确？✓\n",
      "第23轮，训练损失：0.46，训练进度：78.66%，（64m 34s），名字：Snider，预测国家：Dutch，正确？✓\n",
      "第23轮，训练损失：0.45，训练进度：79.16%，（65m 0s），名字：Perrault，预测国家：French，正确？✓\n",
      "第23轮，训练损失：0.43，训练进度：79.66%，（65m 24s），名字：Fiscella，预测国家：Italian，正确？✓\n",
      "第24轮，训练损失：0.46，训练进度：80.5%，（66m 4s），名字：Ganem，预测国家：Arabic，正确？✓\n",
      "第24轮，训练损失：0.43，训练进度：81.0%，（66m 29s），名字：Gauk，预测国家：Chinese，正确？✓\n",
      "第24轮，训练损失：0.43，训练进度：81.49%，（66m 54s），名字：Williamson，预测国家：Scottish，正确？✓\n",
      "第24轮，训练损失：0.44，训练进度：81.99%，（67m 17s），名字：Bonhomme，预测国家：English，正确？✗ (French)\n",
      "第24轮，训练损失：0.43，训练进度：82.49%，（67m 41s），名字：Koenigsmann，预测国家：Dutch，正确？✗ (German)\n",
      "第24轮，训练损失：0.46，训练进度：82.99%，（68m 5s），名字：Santos，预测国家：Spanish，正确？✗ (Portuguese)\n",
      "第25轮，训练损失：0.44，训练进度：83.83%，（68m 50s），名字：Macdonald，预测国家：Scottish，正确？✓\n",
      "第25轮，训练损失：0.45，训练进度：84.33%，（69m 14s），名字：Sorrentino，预测国家：Italian，正确？✓\n",
      "第25轮，训练损失：0.43，训练进度：84.83%，（69m 38s），名字：Cousineau，预测国家：French，正确？✓\n",
      "第25轮，训练损失：0.43，训练进度：85.33%，（70m 2s），名字：Jokhin，预测国家：Russian，正确？✓\n",
      "第25轮，训练损失：0.44，训练进度：85.82%，（70m 27s），名字：Samuel，预测国家：French，正确？✓\n",
      "第25轮，训练损失：0.46，训练进度：86.32%，（70m 52s），名字：Chen，预测国家：Chinese，正确？✓\n",
      "第26轮，训练损失：0.43，训练进度：87.16%，（71m 34s），名字：Samaha，预测国家：Arabic，正确？✓\n",
      "第26轮，训练损失：0.47，训练进度：87.66%，（71m 59s），名字：Mackenzie，预测国家：Scottish，正确？✓\n",
      "第26轮，训练损失：0.44，训练进度：88.16%，（72m 23s），名字：Mojarov，预测国家：Russian，正确？✓\n",
      "第26轮，训练损失：0.43，训练进度：88.66%，（72m 47s），名字：Mclain，预测国家：Irish，正确？✓\n",
      "第26轮，训练损失：0.41，训练进度：89.16%，（73m 12s），名字：Kaufman，预测国家：German，正确？✓\n",
      "第26轮，训练损失：0.41，训练进度：89.66%，（73m 37s），名字：Kuai，预测国家：Chinese，正确？✓\n",
      "第27轮，训练损失：0.42，训练进度：90.5%，（74m 20s），名字：Gorbikov，预测国家：Russian，正确？✓\n",
      "第27轮，训练损失：0.41，训练进度：91.0%，（74m 46s），名字：Wawrzaszek，预测国家：Czech，正确？✗ (Polish)\n",
      "第27轮，训练损失：0.39，训练进度：91.49%，（75m 12s），名字：Richter，预测国家：English，正确？✗ (German)\n",
      "第27轮，训练损失：0.42，训练进度：91.99%，（75m 37s），名字：Gomolka，预测国家：Polish，正确？✓\n",
      "第27轮，训练损失：0.41，训练进度：92.49%，（76m 2s），名字：Mansour，预测国家：Arabic，正确？✓\n",
      "第27轮，训练损失：0.41，训练进度：92.99%，（76m 27s），名字：Antar，预测国家：Arabic，正确？✓\n",
      "第28轮，训练损失：0.44，训练进度：93.83%，（77m 11s），名字：Barros，预测国家：Portuguese，正确？✗ (Spanish)\n",
      "第28轮，训练损失：0.42，训练进度：94.33%，（77m 34s），名字：Boyle，预测国家：Scottish，正确？✓\n",
      "第28轮，训练损失：0.42，训练进度：94.83%，（78m 0s），名字：Grzeskiewicz，预测国家：Polish，正确？✓\n",
      "第28轮，训练损失：0.41，训练进度：95.33%，（78m 27s），名字：Pantelas，预测国家：Greek，正确？✓\n",
      "第28轮，训练损失：0.43，训练进度：95.82%，（78m 55s），名字：Hierro，预测国家：Spanish，正确？✓\n",
      "第28轮，训练损失：0.43，训练进度：96.32%，（79m 21s），名字：Langbroek，预测国家：Dutch，正确？✓\n",
      "第29轮，训练损失：0.43，训练进度：97.16%，（80m 6s），名字：Romano，预测国家：Italian，正确？✓\n",
      "第29轮，训练损失：0.44，训练进度：97.66%，（80m 31s），名字：Suk，预测国家：Korean，正确？✓\n",
      "第29轮，训练损失：0.43，训练进度：98.16%，（80m 57s），名字：Sook，预测国家：Korean，正确？✓\n",
      "第29轮，训练损失：0.38，训练进度：98.66%，（81m 24s），名字：Che，预测国家：Chinese，正确？✓\n",
      "第29轮，训练损失：0.41，训练进度：99.16%，（81m 50s），名字：Bang，预测国家：Korean，正确？✓\n",
      "第29轮，训练损失：0.45，训练进度：99.66%，（82m 15s），名字：Macleod，预测国家：Scottish，正确？✓\n"
     ]
    },
    {
     "name": "stderr",
     "output_type": "stream",
     "text": [
      "C:\\ProgramData\\Anaconda3\\envs\\tf36\\lib\\site-packages\\torch\\serialization.py:147: UserWarning: Couldn't retrieve source code for container of type LSTMNetwork. It won't be checked for correctness upon loading.\n",
      "  \"type \" + obj.__name__ + \". It won't be checked \"\n"
     ]
    }
   ],
   "source": [
    "import time\n",
    "import math\n",
    "\n",
    "# 开始训练LSTM网络\n",
    "\n",
    "# 构造一个LSTM网络的实例\n",
    "#lstm = LSTMNetwork(n_letters, 10, n_categories, 2)\n",
    "lstm = LSTMNetwork(n_letters, 10, 20, n_categories, 2)\n",
    "#lstm = torch.load('homework_5hiden_10epoch_1.49.mdl')\n",
    "\n",
    "#定义损失函数\n",
    "cost = torch.nn.NLLLoss()\n",
    "\n",
    "#定义优化器,\n",
    "optimizer = torch.optim.Adam(lstm.parameters(), lr = 0.001)\n",
    "records = []\n",
    "\n",
    "# 用于计算训练时间的函数\n",
    "def time_since(since):\n",
    "    now = time.time()\n",
    "    s = now - since\n",
    "    m = math.floor(s / 60)\n",
    "    s -= m * 60\n",
    "    return '%dm %ds' % (m, s)\n",
    "\n",
    "start = time.time()\n",
    "\n",
    "# 开始训练，一共5个epoch，否则容易过拟合\n",
    "losses = []\n",
    "n_epochs = 30\n",
    "for epoch in range(n_epochs):\n",
    "    #每次随机选择数据进行训练，每个 EPOCH 训练“所有名字个数”次。\n",
    "    for i in range(all_line_num):\n",
    "        category, line, y, x = random_training_pair()\n",
    "        x = Variable(torch.LongTensor(x))\n",
    "        y = Variable(torch.LongTensor([y]))\n",
    "        optimizer.zero_grad()\n",
    "        \n",
    "        # Step1:初始化LSTM隐含层单元的状态\n",
    "        hidden = lstm.initHidden()\n",
    "        \n",
    "        # Step2:让LSTM开始做运算，注意，不需要手工编写对时间步的循环，而是直接交给PyTorch的LSTM层。\n",
    "        # 它自动会根据数据的维度计算若干时间步\n",
    "        output = lstm(x, hidden)\n",
    "        \n",
    "        # Step3:计算损失\n",
    "        loss = cost(output, y)\n",
    "        losses.append(loss.data.numpy()[0])\n",
    "        \n",
    "        #反向传播\n",
    "        loss.backward()\n",
    "        optimizer.step()\n",
    "        \n",
    "        #每隔3000步，跑一次校验集，并打印结果\n",
    "        if 0 != i and i % 3000 == 0:\n",
    "            # 判断模型的预测是否正确\n",
    "            guess, guess_i = category_from_output(output)\n",
    "            correct = '✓' if guess == category else '✗ (%s)' % category\n",
    "            # 计算训练进度\n",
    "            training_process = (all_line_num * epoch + i) / (all_line_num * n_epochs) * 100\n",
    "            training_process = '%.2f' % training_process\n",
    "            print('第{}轮，训练损失：{:.2f}，训练进度：{}%，（{}），名字：{}，预测国家：{}，正确？{}'\\\n",
    "                .format(epoch, np.mean(losses), float(training_process), time_since(start), line, guess, correct))\n",
    "            records.append([np.mean(losses)])\n",
    "            losses = []\n",
    "torch.save(lstm,'homework.mdl')"
   ]
  },
  {
   "cell_type": "code",
   "execution_count": 26,
   "metadata": {},
   "outputs": [
    {
     "data": {
      "text/plain": [
       "<matplotlib.legend.Legend at 0x9a5ae10>"
      ]
     },
     "execution_count": 26,
     "metadata": {},
     "output_type": "execute_result"
    },
    {
     "data": {
      "image/png": "[encoded data removed]",
      "text/plain": [
       "<matplotlib.figure.Figure at 0x9a5a080>"
      ]
     },
     "metadata": {},
     "output_type": "display_data"
    }
   ],
   "source": [
    "a = [i[0] for i in records]\n",
    "plt.plot(a, label = 'Train Loss')\n",
    "plt.xlabel('Steps')\n",
    "plt.ylabel('Loss')\n",
    "plt.legend()"
   ]
  },
  {
   "cell_type": "markdown",
   "metadata": {},
   "source": [
    "## 通过姓氏分析语言的相似性"
   ]
  },
  {
   "cell_type": "markdown",
   "metadata": {},
   "source": [
    "激动人心的时刻到了！\n",
    "\n",
    "下面将使用10000条数据评估训练好的模型，并根据评估的结果绘制图形，从图形中我们可以发现哪些语言的姓氏是相似的！\n",
    "\n",
    "**你需要自行编写 evaluate 函数的内容。**"
   ]
  },
  {
   "cell_type": "code",
   "execution_count": 27,
   "metadata": {},
   "outputs": [
    {
     "data": {
      "image/png": "[encoded data removed]",
      "text/plain": [
       "<matplotlib.figure.Figure at 0x9bd40b8>"
      ]
     },
     "metadata": {},
     "output_type": "display_data"
    }
   ],
   "source": [
    "import matplotlib.pyplot as plt\n",
    "\n",
    "\n",
    "# 建立一个（18 x 18）的方阵张量\n",
    "# 用于保存神经网络做出的预测结果\n",
    "confusion = torch.zeros(n_categories, n_categories)\n",
    "# 用于评估的模型的测试次数\n",
    "n_confusion = 10000\n",
    "\n",
    "\n",
    "# 评估用方法 传进去一个名字，给出预测结果\n",
    "# 可以观察到这个方法的实现与 train 方法前半部分类似\n",
    "# 其实它就是去掉反向传播的 train 方法\n",
    "def evaluate(line_list):\n",
    "    # 调用模型前应该先初始化模型的隐含层\n",
    "    hidden = lstm.initHidden()\n",
    "    # 别忘了将输入的list转化为torch.Variable\n",
    "    line_variable = Variable(torch.LongTensor(line_list))\n",
    "    # 调用模型\n",
    "    output = lstm(line_variable, hidden)\n",
    "    \n",
    "    return output\n",
    "\n",
    "# 循环一万次\n",
    "for i in range(n_confusion):\n",
    "    # 随机选择测试数据，包括姓氏以及所属语言\n",
    "    category, line, category_index, line_list = random_training_pair()\n",
    "    # 取得预测结果\n",
    "    output = evaluate(line_list)\n",
    "    \n",
    "    # 取得预测结果的语言和索引\n",
    "    guess, guess_i = category_from_output(output)\n",
    "    \n",
    "    # 以姓氏实际的所属语言为行\n",
    "    # 以模型预测的所属语言为列\n",
    "    # 在方阵的特定位置增加1\n",
    "\n",
    "    confusion[category_index][guess_i] += 1\n",
    "\n",
    "# 数据归一化\n",
    "for i in range(n_categories):\n",
    "    confusion[i] = confusion[i] / confusion[i].sum()\n",
    "\n",
    "# 设置一个图表\n",
    "fig = plt.figure()\n",
    "ax = fig.add_subplot(111)\n",
    "# 将 confusion 方阵数据传入\n",
    "cax = ax.matshow(confusion.numpy())\n",
    "fig.colorbar(cax)\n",
    "\n",
    "# 设置图表两边的语言类别名称\n",
    "ax.set_xticklabels([''] + all_categories, rotation=90)\n",
    "ax.set_yticklabels([''] + all_categories)\n",
    "\n",
    "ax.xaxis.set_major_locator(ticker.MultipleLocator(1))\n",
    "ax.yaxis.set_major_locator(ticker.MultipleLocator(1))\n",
    "\n",
    "plt.show()"
   ]
  },
  {
   "cell_type": "markdown",
   "metadata": {},
   "source": [
    "先看行再看列，行标签代表姓氏实际所属语言，列标签代表模型预测姓氏所属语言。\n",
    "\n",
    "色块颜色越亮代表预测次数越高。整张图表中对角线最亮，说明模型对大部分数据的预测都是准确的。\n",
    "\n",
    "但是！我们要观察的是预测错误的情况，即对角线以外的亮色块！\n",
    "\n",
    "先看 English 这一行，可以看到 English 对角线上的色块很暗啊，说明模型对英文姓氏的预测很差。同时，除对角线方块外，在 English 这一行可以观察到很多浅色方块，它们分别是：Czech（捷克语）、French（法语）、German（德语）、Irish（爱尔兰语）、Scottish（苏格兰语）。这些国家文化相近，姓氏相似，所以模型没能做到非常好的区分。\n",
    "\n",
    "而东方国家，让我们观察中国这一行，可以看到中国、韩国、越南（Vietnamese）的姓氏有一定的相似度，这与国家间的文化是相符的。\n",
    "\n",
    "另外还有西班牙和葡萄牙，这两个国家的姓氏也有些相似。"
   ]
  },
  {
   "cell_type": "markdown",
   "metadata": {},
   "source": [
    "## 将模型封装的更易用"
   ]
  },
  {
   "cell_type": "markdown",
   "metadata": {},
   "source": [
    "我们重新把焦点转移到训练的模型上来。\n",
    "\n",
    "下面我要编写一个函数将训练的模型封装起来，以便于调用。"
   ]
  },
  {
   "cell_type": "code",
   "execution_count": 28,
   "metadata": {
    "scrolled": false
   },
   "outputs": [
    {
     "name": "stdout",
     "output_type": "stream",
     "text": [
      "\n",
      "> Dovesky\n",
      "(-0.31) Russian\n",
      "(-1.40) Czech\n",
      "(-4.17) English\n",
      "\n",
      "> Jackson\n",
      "(-0.01) Scottish\n",
      "(-4.59) English\n",
      "(-7.08) Irish\n",
      "\n",
      "> Satoshi\n",
      "(-0.00) Japanese\n",
      "(-9.06) Russian\n",
      "(-9.41) Italian\n",
      "\n",
      "> Han\n",
      "(-0.93) Korean\n",
      "(-1.08) Vietnamese\n",
      "(-1.39) Chinese\n",
      "\n",
      "> Zhang\n",
      "(-0.20) Chinese\n",
      "(-1.84) Vietnamese\n",
      "(-4.10) Korean\n",
      "\n",
      "> Ma\n",
      "(-0.30) Korean\n",
      "(-1.57) Vietnamese\n",
      "(-3.90) Polish\n"
     ]
    }
   ],
   "source": [
    "# predict函数\n",
    "# 第一个参数为要进行预测的姓氏\n",
    "# 第二个参数为预测最大可能所属语言的数量\n",
    "def predict(input_line, n_predictions=3):\n",
    "    # 首先将用户输入的名字打印出来\n",
    "    print('\\n> %s' % input_line)\n",
    "    # 将用户输入的字符串转化为索引列表\n",
    "    input_line = list(map(lambda x: all_letters.find(x), input_line))\n",
    "    # 将用户输入的名字传入模型中进行预测\n",
    "    output = evaluate(input_line)\n",
    "\n",
    "    # 获得概率最大的n_predictions个语言类别\n",
    "    topv, topi = output.data.topk(n_predictions, 1, True)\n",
    "    # topv中保存着概率值\n",
    "    # topi中保存着位置索引\n",
    "\n",
    "    predictions = []\n",
    "\n",
    "    for i in range(n_predictions):\n",
    "        value = topv[0][i]\n",
    "        category_index = topi[0][i]\n",
    "        # 将预测概率最大的三种语言类别格式化后打印出来\n",
    "        print('(%.2f) %s' % (value, all_categories[category_index]))\n",
    "        # 将它们存储到 predictions 中\n",
    "        predictions.append([value, all_categories[category_index]])\n",
    "\n",
    "predict('Dovesky')\n",
    "predict('Jackson')\n",
    "predict('Satoshi')\n",
    "predict('Han')\n",
    "predict('Zhang')\n",
    "predict('Ma')"
   ]
  },
  {
   "cell_type": "code",
   "execution_count": null,
   "metadata": {
    "collapsed": true
   },
   "outputs": [],
   "source": [
    "第一次训练\n",
    "看来我Mr Zhang还是纯正的中国人~\n",
    "原来我媳妇Mrs Ma是个韩国人~早知道她以前在韩国公司上班还认识一堆韩国人，原来就是韩国人啊~怪不得她不喜欢看韩剧都看腻了才来中国的吧~话说韩国妹子都爱整容她不会也整过吧~怪不得和身份证上的样子不像呢~可是身份证上写的和我是同乡啊，办的假证吧~为了我她还真是拼命了呢HEHEHEHE~那她的一堆中国亲属又是怎么回事呢？都是被她收买的吧~#…*！…#￥#@&%*省略一万字中二病已经无法阻挡了\n",
    "不知道上面这段鬼话用NLP处理一下能生成什么呢？"
   ]
  },
  {
   "cell_type": "code",
   "execution_count": null,
   "metadata": {
    "collapsed": true
   },
   "outputs": [],
   "source": [
    "第二次训练\n",
    "epoch = 5 loss = 1.54\n",
    "参数相同\n",
    "> Ma\n",
    "(-0.51) Vietnamese\n",
    "(-1.36) Chinese\n",
    "(-2.24) Korean\n",
    "我媳妇Mrs Ma又变成了越南人！这也太不靠谱了吧~不记得从越南买过媳妇啊~严重怀疑这个LSTM模型的能力了。。。看来还需要改进啊！训练时间长一点会不会好呢？"
   ]
  },
  {
   "cell_type": "code",
   "execution_count": null,
   "metadata": {
    "collapsed": true
   },
   "outputs": [],
   "source": [
    "第三次训练\n",
    "epoch = 10 loss = 1.35\n",
    "> Zhang\n",
    "(-0.70) Korean\n",
    "(-0.95) Chinese\n",
    "(-2.42) Vietnamese\n",
    "\n",
    "> Ma\n",
    "(-0.86) Chinese\n",
    "(-1.21) Vietnamese\n",
    "(-1.29) Korean\n",
    "我媳妇Mrs Ma倒是中国人了，可是我Mr Zhang却变成了韩国人~捂脸"
   ]
  },
  {
   "cell_type": "code",
   "execution_count": null,
   "metadata": {
    "collapsed": true
   },
   "outputs": [],
   "source": [
    "第四次训练\n",
    "epoch = 20，使用保存的模型加载后继续训练，初始loss = 0.96，结束loss = 0.95\n",
    "> Zhang\n",
    "(-0.21) Chinese\n",
    "(-2.69) Korean\n",
    "(-3.46) Vietnamese\n",
    "\n",
    "> Ma\n",
    "(-0.72) Vietnamese\n",
    "(-1.35) Chinese\n",
    "(-1.38) Korean\n",
    "我恢复了中国人身份，媳妇又成了越南人。话说这次的loss曲线为什么初始值与上次不一致？又为什么先升后降？\n",
    "检查数据发现Ma这个姓在汉语、韩语和越南语中都有，所以会这么纠结。\n",
    "但是Zhang这个姓韩语和越南语中并没有，为什么训练3中会判为韩国人呢？"
   ]
  },
  {
   "cell_type": "code",
   "execution_count": null,
   "metadata": {
    "collapsed": true
   },
   "outputs": [],
   "source": [
    "训练5\n",
    "epoch = 30，加载模型，初始loss = 0.44, 结束loss = 0.87\n",
    "> Zhang\n",
    "(-0.09) Chinese\n",
    "(-2.94) Korean\n",
    "(-4.52) English\n",
    "\n",
    "> Ma\n",
    "(-0.65) Vietnamese\n",
    "(-0.97) Korean\n",
    "(-2.30) Chinese\n",
    "明白了，曲线先升后降是因为第一次的mean loss只包含了第一次predict的loss，所以不具代表性。而且,losses值应该在每次产生曲线值后清空，一直累加是不对的\n",
    "多语种同姓的问题怎么解决呢？"
   ]
  },
  {
   "cell_type": "code",
   "execution_count": null,
   "metadata": {
    "collapsed": true
   },
   "outputs": [],
   "source": [
    "embedding层的输出维度和隐含层维度没有关系，embedding使输出向量与隐含层维度相同只是由于想让序列中的每个元素有一个对应的隐含状态值。\n",
    "但是这只是人类的想法，事实上机器并不一定这样处理就最好。\n",
    "那么, 是不是增加隐含层节点数量可以改善性能呢？"
   ]
  },
  {
   "cell_type": "code",
   "execution_count": null,
   "metadata": {
    "collapsed": true
   },
   "outputs": [],
   "source": [
    "训练6\n",
    "先减少隐含节点，这必然能提高训练效率，要看的是能否达到相同的loss。\n",
    "epoch = 10，hiden = 5，初始loss = 2.84, 结束loss = 1.49\n",
    "> Zhang\n",
    "(-0.50) Korean\n",
    "(-1.05) Chinese\n",
    "(-3.85) Vietnamese\n",
    "\n",
    "> Ma\n",
    "(-0.68) Vietnamese\n",
    "(-1.03) Chinese\n",
    "(-2.12) Korean\n",
    " loss = 1.49略高于10个隐含单元时的1.35，矩阵图上看明显没有10个隐含单元时好。"
   ]
  },
  {
   "attachments": {
    "5hiden_epoch_10.png": {
     "image/png": "[encoded data removed]"
    },
    "epoch_10.png": {
     "image/png": "[encoded data removed]"
    }
   },
   "cell_type": "markdown",
   "metadata": {},
   "source": [
    "![epoch_10.png](attachment:epoch_10.png)\n",
    "![5hiden_epoch_10.png](attachment:5hiden_epoch_10.png)\n"
   ]
  },
  {
   "cell_type": "code",
   "execution_count": null,
   "metadata": {
    "collapsed": true
   },
   "outputs": [],
   "source": [
    "训练7\n",
    "epoch = 30，hiden = 5，初始loss = 2.83, 结束loss = 1.42\n",
    "> Zhang\n",
    "(-0.63) Chinese\n",
    "(-1.10) Korean\n",
    "(-3.18) Irish\n",
    "\n",
    "> Ma\n",
    "(-0.79) Korean\n",
    "(-1.04) Chinese\n",
    "(-1.74) Vietnamese\n",
    " loss = 1.49远远高于10个隐含单元时的0.87，矩阵图同样没有10个隐含单元时好。这说明5个隐含节点可能已经不足以记忆任务所需的复杂模式。"
   ]
  },
  {
   "cell_type": "code",
   "execution_count": null,
   "metadata": {
    "collapsed": true
   },
   "outputs": [],
   "source": [
    "训练8\n",
    "epoch = 30，hiden = 20，初始loss = 2.53, 结束loss = 0.45\n",
    "> Zhang\n",
    "(-0.20) Chinese\n",
    "(-1.84) Vietnamese\n",
    "(-4.10) Korean\n",
    "\n",
    "> Ma\n",
    "(-0.30) Korean\n",
    "(-1.57) Vietnamese\n",
    "(-3.90) Polish\n",
    "loss = 0.45远远低于10个隐含单元时的0.87，矩阵图明显较好。不知道有没有过拟合。"
   ]
  },
  {
   "attachments": {
    "20hiden_epoch_30.png": {
     "image/png": "[encoded data removed]"
    },
    "epoch_30.png": {
     "image/png": "[encoded data removed]"
    }
   },
   "cell_type": "markdown",
   "metadata": {},
   "source": [
    "![epoch_30.png](attachment:epoch_30.png)![20hiden_epoch_30.png](attachment:20hiden_epoch_30.png)"
   ]
  },
  {
   "cell_type": "markdown",
   "metadata": {},
   "source": [
    "到这里本次练习就结束了，希望本次练习可以加深你对 LSTM 的认识。如果在练习中遇到了问题，可以在 火炬上的深度学习 课程讨论群 中进行提问，对不模型有不明白的地方，可以再重复学习下课程视频中的讲解。"
   ]
  },
  {
   "cell_type": "markdown",
   "metadata": {},
   "source": [
    "![](http://wiki.swarma.net/images/c/ca/AI学园.jpg)"
   ]
  }
 ],
 "metadata": {
  "kernelspec": {
   "display_name": "Python 3",
   "language": "python",
   "name": "python3"
  },
  "language_info": {
   "codemirror_mode": {
    "name": "ipython",
    "version": 3
   },
   "file_extension": ".py",
   "mimetype": "text/x-python",
   "name": "python",
   "nbconvert_exporter": "python",
   "pygments_lexer": "ipython3",
   "version": "3.6.2"
  }
 },
 "nbformat": 4,
 "nbformat_minor": 2
}
